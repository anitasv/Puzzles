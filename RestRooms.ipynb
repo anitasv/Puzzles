{
 "cells": [
  {
   "cell_type": "code",
   "execution_count": 22,
   "metadata": {
    "collapsed": false
   },
   "outputs": [
    {
     "ename": "LoadError",
     "evalue": "LoadError: syntax: missing separator in tuple\nwhile loading In[22], in expression starting on line 61",
     "output_type": "error",
     "traceback": [
      "LoadError: syntax: missing separator in tuple\nwhile loading In[22], in expression starting on line 61",
      "",
      " [inlined code] from essentials.jl:114"
     ]
    }
   ],
   "source": [
    "function solve(arr, k, debug)\n",
    "    n = length(arr)\n",
    "    \n",
    "    if (k == 2)\n",
    "        if (debug)\n",
    "            return (arr[n] - arr[1], [arr[1], arr[n]])\n",
    "        else\n",
    "            return arr[n] - arr[1]\n",
    "        end\n",
    "    end\n",
    "            \n",
    "    return binary_probe(arr, k, 1, floor(Int, n / 2), debug)\n",
    "end\n",
    "\n",
    "function binary_probe(arr, k, start, offset, debug)\n",
    "   \n",
    "    (k_l, k_r) = split(k)\n",
    "\n",
    "    mid = start + offset\n",
    "    \n",
    "    if (debug)\n",
    "        (a, b, selection) = eval_partition(arr, mid, k_l, k_r, debug)\n",
    "    else\n",
    "        (a, b) = eval_partition(arr, mid, k_l, k_r, debug)\n",
    "    end\n",
    "    \n",
    "    nextOffset = floor(Int, offset / 2)\n",
    "    \n",
    "    if (a < b) \n",
    "        bestScore = a\n",
    "        nextStart = mid\n",
    "        n = length(arr)    \n",
    "        if (nextStart + nextOffset > n - k_r + 1)\n",
    "            nextOffset = n - k_r + 1 - nextStart\n",
    "        end\n",
    "    else\n",
    "        bestScore = b\n",
    "        nextStart = start\n",
    "        if (nextStart + nextOffset < k_l)\n",
    "            nextOffset = k_l - nextStart\n",
    "        end\n",
    "    end\n",
    " \n",
    "    if (nextOffset > 0)\n",
    "        if (debug)\n",
    "            (score, newSel) = binary_probe(arr, k, nextStart, nextOffset, debug)\n",
    "        else\n",
    "            score = binary_probe(arr, k, nextStart, nextOffset, debug)\n",
    "        end\n",
    "        if (score > bestScore)\n",
    "            bestScore = score\n",
    "            if (debug)\n",
    "                selection = newSel\n",
    "            end\n",
    "        end\n",
    "    end\n",
    "    if (debug)\n",
    "        return (bestScore, selection)\n",
    "    else\n",
    "        return bestScore\n",
    "    end\n",
    "end\n",
    "\n",
    "\n",
    "function eval_partition(arr, l, k_l, k_r, debug)\n",
    "    n = length(arr)\n",
    "        \n",
    "    if (debug)\n",
    "        (a, sela) = solve(arr[1:l], k_l, debug)\n",
    "        (b, selb) = solve(arr[l:n], k_r, debug)\n",
    "    else\n",
    "        a = solve(arr[1:l], k_l, debug)\n",
    "        b = solve(arr[l:n], k_r, debug)\n",
    "    end\n",
    "        \n",
    "    if (debug)\n",
    "        newSel = vcat(sela[1:(k_l-1)], selb)\n",
    "        println(\"(1, $l, $k_l) and ($l, $n, $k_r) => ($a, $b, $newSel)\")\n",
    "        return (a, b, newSel)\n",
    "    else\n",
    "        return (a, b)\n",
    "    end\n",
    "end\n",
    "\n",
    "\n",
    "function split(k)\n",
    "    k_l = round(Int, k/2)\n",
    "    k_r = k + 1 - k_l\n",
    "    return (k_l, k_r)\n",
    "end\n"
   ]
  },
  {
   "cell_type": "code",
   "execution_count": 17,
   "metadata": {
    "collapsed": false
   },
   "outputs": [],
   "source": [
    "R=[1, 1, 2, 3, 5, 8, 13, 21, 34, 55, 89];"
   ]
  },
  {
   "cell_type": "code",
   "execution_count": 18,
   "metadata": {
    "collapsed": false
   },
   "outputs": [
    {
     "name": "stdout",
     "output_type": "stream",
     "text": [
      "(1, 4, 2) and (4, 6, 2) => (26, 55, [8,34,89])\n",
      "(1, 5, 2) and (5, 6, 2) => (47, 34, [8,55,89])\n",
      "(1, 6, 2) and (6, 11, 3) => (7, 34, [1,8,55,89])\n",
      "(1, 3, 2) and (3, 4, 2) => (34, 34, [21,55,89])\n",
      "(1, 2, 2) and (2, 4, 2) => (13, 55, [21,34,89])\n",
      "(1, 8, 2) and (8, 11, 3) => (20, 34, [1,21,55,89])\n",
      "(1, 2, 2) and (2, 3, 2) => (21, 34, [34,55,89])\n",
      "(1, 9, 2) and (9, 11, 3) => (33, 21, [1,34,55,89])\n"
     ]
    }
   ],
   "source": [
    "solve(R, 4, true);"
   ]
  },
  {
   "cell_type": "code",
   "execution_count": 19,
   "metadata": {
    "collapsed": false
   },
   "outputs": [
    {
     "data": {
      "text/plain": [
       "(21,[1,34,55,89])"
      ]
     },
     "execution_count": 19,
     "metadata": {},
     "output_type": "execute_result"
    }
   ],
   "source": [
    "ans"
   ]
  },
  {
   "cell_type": "code",
   "execution_count": 20,
   "metadata": {
    "collapsed": false
   },
   "outputs": [
    {
     "data": {
      "text/plain": [
       "21"
      ]
     },
     "execution_count": 20,
     "metadata": {},
     "output_type": "execute_result"
    }
   ],
   "source": [
    "solve(R, 4, false)"
   ]
  },
  {
   "cell_type": "code",
   "execution_count": null,
   "metadata": {
    "collapsed": true
   },
   "outputs": [],
   "source": []
  }
 ],
 "metadata": {
  "kernelspec": {
   "display_name": "Julia 0.5.0-dev",
   "language": "julia",
   "name": "julia-0.5"
  },
  "language_info": {
   "file_extension": ".jl",
   "mimetype": "application/julia",
   "name": "julia",
   "version": "0.5.0"
  }
 },
 "nbformat": 4,
 "nbformat_minor": 0
}
